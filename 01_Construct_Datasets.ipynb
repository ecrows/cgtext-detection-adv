{
 "cells": [
  {
   "cell_type": "code",
   "execution_count": null,
   "metadata": {},
   "outputs": [],
   "source": [
    "import pandas as pd\n",
    "from glob import glob\n",
    "import random\n",
    "random.seed(0)"
   ]
  },
  {
   "cell_type": "markdown",
   "metadata": {},
   "source": [
    "# Data Loading"
   ]
  },
  {
   "cell_type": "markdown",
   "metadata": {},
   "source": [
    "Loading and cleaning up GPT-3 First"
   ]
  },
  {
   "cell_type": "code",
   "execution_count": null,
   "metadata": {},
   "outputs": [],
   "source": [
    "gpt3 = pd.read_json(\"./data/gpt3_175b_samples.jsonl\", lines=True)\n",
    "\n",
    "# Fixing the dataset myself since <|endoftext|> is included erroneously.  OpenAI should probably accept pull requests for this sort of thing...\n",
    "gpt3_rebuild = []\n",
    "\n",
    "for f in gpt3[0]:\n",
    "    split = f.split(\"<|endoftext|>\")\n",
    "    for s in split:\n",
    "        gpt3_rebuild.append(s)\n",
    "\n",
    "gpt3_df = pd.DataFrame(gpt3_rebuild)"
   ]
  },
  {
   "cell_type": "code",
   "execution_count": null,
   "metadata": {},
   "outputs": [],
   "source": [
    "gpt3_df"
   ]
  },
  {
   "cell_type": "markdown",
   "metadata": {},
   "source": [
    "Now we have the GPT-3 samples, but it isn't really enough for training.  We're just going to use this as test data.\n",
    "\n",
    "Now we move on to GPT-2 datasets."
   ]
  },
  {
   "cell_type": "code",
   "execution_count": null,
   "metadata": {},
   "outputs": [],
   "source": [
    "gpt2_k40_files = glob(\"./data/gpt-2-output-dataset/data/*k40.train.jsonl\")"
   ]
  },
  {
   "cell_type": "code",
   "execution_count": null,
   "metadata": {},
   "outputs": [],
   "source": [
    "gpt2_k40_files"
   ]
  },
  {
   "cell_type": "code",
   "execution_count": null,
   "metadata": {},
   "outputs": [],
   "source": [
    "gpt2_1542m = pd.read_json(\"./data/gpt-2-output-dataset/data/xl-1542M-k40.train.jsonl\", lines=True)"
   ]
  },
  {
   "cell_type": "markdown",
   "metadata": {},
   "source": [
    "And finally we load the regular webtext dataset."
   ]
  },
  {
   "cell_type": "code",
   "execution_count": null,
   "metadata": {},
   "outputs": [],
   "source": [
    "webtext_train = pd.read_json(\"./data/gpt-2-output-dataset/data/webtext.train.jsonl\", lines=True)"
   ]
  },
  {
   "cell_type": "code",
   "execution_count": null,
   "metadata": {},
   "outputs": [],
   "source": [
    "webtext_train.head(1)['text']"
   ]
  },
  {
   "cell_type": "code",
   "execution_count": null,
   "metadata": {},
   "outputs": [],
   "source": [
    "webtext_train['text']"
   ]
  },
  {
   "cell_type": "markdown",
   "metadata": {},
   "source": [
    "Everything works properly.  We'll use this code for loading different datasets for experiments."
   ]
  },
  {
   "cell_type": "markdown",
   "metadata": {},
   "source": [
    "# Create GPT2-355M parameter sample"
   ]
  },
  {
   "cell_type": "code",
   "execution_count": null,
   "metadata": {},
   "outputs": [],
   "source": [
    "gpt2_355m_k40 = pd.read_json(\"./data/gpt-2-output-dataset/data/medium-345M-k40.train.jsonl\", lines=True)\n",
    "webtext = pd.read_json(\"./data/gpt-2-output-dataset/data/webtext.train.jsonl\", lines=True)\n",
    "gpt2_355m_k40_test = pd.read_json(\"./data/gpt-2-output-dataset/data/medium-345M-k40.test.jsonl\", lines=True)\n",
    "webtext_test = pd.read_json(\"./data/gpt-2-output-dataset/data/webtext.test.jsonl\", lines=True)"
   ]
  },
  {
   "cell_type": "markdown",
   "metadata": {},
   "source": [
    "We need to format the data like this for Grover to use it"
   ]
  },
  {
   "cell_type": "code",
   "execution_count": null,
   "metadata": {},
   "outputs": [],
   "source": [
    "template = pd.read_json(\"./data/grover/generator=mega~dataset=p1.00.jsonl\", lines=True)"
   ]
  },
  {
   "cell_type": "code",
   "execution_count": null,
   "metadata": {},
   "outputs": [],
   "source": [
    "template.head(1)"
   ]
  },
  {
   "cell_type": "code",
   "execution_count": null,
   "metadata": {},
   "outputs": [],
   "source": [
    "gpt2_355m_k40_test[\"label\"] = 'machine'"
   ]
  },
  {
   "cell_type": "code",
   "execution_count": null,
   "metadata": {},
   "outputs": [],
   "source": [
    "webtext_test[\"label\"] = 'human'"
   ]
  },
  {
   "cell_type": "code",
   "execution_count": null,
   "metadata": {},
   "outputs": [],
   "source": [
    "gpt2_355_test_set = gpt2_355m_k40_test.append(webtext_test, ignore_index=True)"
   ]
  },
  {
   "cell_type": "code",
   "execution_count": null,
   "metadata": {},
   "outputs": [],
   "source": [
    "gpt2_355_test_set = gpt2_355_test_set.rename(columns={\"text\": \"article\"})"
   ]
  },
  {
   "cell_type": "code",
   "execution_count": null,
   "metadata": {},
   "outputs": [],
   "source": [
    "gpt2_355_test_set[\"split\"] = 'test'"
   ]
  },
  {
   "cell_type": "code",
   "execution_count": null,
   "metadata": {},
   "outputs": [],
   "source": [
    "gpt2_355_test_set"
   ]
  },
  {
   "cell_type": "code",
   "execution_count": null,
   "metadata": {},
   "outputs": [],
   "source": [
    "gpt2_355_test_set.to_json(\"./classification_data/gpt2_355m_test_set_grover.jsonl\", lines=True, orient=\"records\")"
   ]
  },
  {
   "cell_type": "markdown",
   "metadata": {},
   "source": [
    "# Create GPT-2 1.5B Sample\n",
    "For Grover"
   ]
  },
  {
   "cell_type": "code",
   "execution_count": null,
   "metadata": {},
   "outputs": [],
   "source": [
    "gpt2_1532M_test = pd.read_json(\"./data/gpt-2-output-dataset/data/xl-1542M-k40.test.jsonl\", lines=True)\n",
    "webtext_test = pd.read_json(\"./data/gpt-2-output-dataset/data/webtext.test.jsonl\", lines=True)\n",
    "\n",
    "gpt2_1532M_test[\"label\"] = 'machine'\n",
    "webtext_test[\"label\"] = 'human'\n",
    "\n",
    "gpt2_1532M_test_set = gpt2_1532M_test.append(webtext_test, ignore_index=True)\n",
    "\n",
    "gpt2_1532M_test_set = gpt2_1532M_test_set.rename(columns={\"text\": \"article\"})\n",
    "\n",
    "gpt2_1532M_test_set[\"split\"] = 'test'\n",
    "\n",
    "gpt2_1532M_test_set.to_json(\"./classification_data/gpt2_1532m_test_set_grover.jsonl\", lines=True, orient=\"records\")"
   ]
  },
  {
   "cell_type": "markdown",
   "metadata": {},
   "source": [
    "# Create GPT-3 175B Sample"
   ]
  },
  {
   "cell_type": "code",
   "execution_count": null,
   "metadata": {},
   "outputs": [],
   "source": [
    "gpt3 = pd.read_json(\"./data/gpt3_175b_samples.jsonl\", lines=True)\n",
    "\n",
    "# Fixing the dataset since <|endoftext|> is included erroneously.\n",
    "gpt3_rebuild = []\n",
    "\n",
    "for f in gpt3[0]:\n",
    "    split = f.split(\"<|endoftext|>\")\n",
    "    for s in split:\n",
    "        gpt3_rebuild.append(s)\n",
    "\n",
    "gpt3_df = pd.DataFrame(gpt3_rebuild)"
   ]
  },
  {
   "cell_type": "code",
   "execution_count": null,
   "metadata": {},
   "outputs": [],
   "source": [
    "gpt3_df = gpt3_df.rename(columns={0: \"text\"})"
   ]
  },
  {
   "cell_type": "code",
   "execution_count": null,
   "metadata": {},
   "outputs": [],
   "source": [
    "gpt3_test = gpt3_df\n",
    "webtext_test = pd.read_json(\"./data/gpt-2-output-dataset/data/webtext.test.jsonl\", lines=True)\n",
    "gpt3_test[\"label\"] = 'machine'\n",
    "webtext_test[\"label\"] = 'human'\n",
    "gpt3_test_set = gpt3_test.append(webtext_test.sample(gpt3_test.shape[0]), ignore_index=True)\n",
    "gpt3_test_set = gpt3_test_set.rename(columns={\"text\": \"article\"})\n",
    "gpt3_test_set[\"split\"] = 'test'\n",
    "\n",
    "gpt3_test_set.to_json(\"./classification_data/gpt3_test_set_grover.jsonl\", lines=True, orient=\"records\")"
   ]
  },
  {
   "cell_type": "code",
   "execution_count": null,
   "metadata": {},
   "outputs": [],
   "source": [
    "gpt3_test_set"
   ]
  }
 ],
 "metadata": {
  "environment": {
   "kernel": "python3",
   "name": "common-cu110.m87",
   "type": "gcloud",
   "uri": "gcr.io/deeplearning-platform-release/base-cu110:m87"
  },
  "kernelspec": {
   "display_name": "Python 3 (ipykernel)",
   "language": "python",
   "name": "python3"
  },
  "language_info": {
   "codemirror_mode": {
    "name": "ipython",
    "version": 3
   },
   "file_extension": ".py",
   "mimetype": "text/x-python",
   "name": "python",
   "nbconvert_exporter": "python",
   "pygments_lexer": "ipython3",
   "version": "3.8.13"
  }
 },
 "nbformat": 4,
 "nbformat_minor": 4
}
