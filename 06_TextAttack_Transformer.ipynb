{
 "cells": [
  {
   "cell_type": "markdown",
   "metadata": {},
   "source": [
    "# TextAttack Transformers"
   ]
  },
  {
   "cell_type": "code",
   "execution_count": null,
   "metadata": {},
   "outputs": [],
   "source": [
    "import numpy as np\n",
    "import random\n",
    "import datasets\n",
    "import os\n",
    "import pandas as pd\n",
    "import re\n",
    "import pickle\n",
    "\n",
    "from sklearn.feature_extraction.text import CountVectorizer, ENGLISH_STOP_WORDS\n",
    "from sklearn import preprocessing\n",
    "from sklearn.feature_extraction.text import TfidfVectorizer\n",
    "from sklearn.linear_model import LogisticRegression\n",
    "from sklearn.linear_model import SGDClassifier\n",
    "from sklearn.metrics import classification_report\n",
    "from sklearn.metrics import accuracy_score, f1_score, r2_score, mean_squared_error\n",
    "from sklearn.linear_model import LinearRegression\n",
    "\n",
    "import textattack"
   ]
  },
  {
   "cell_type": "code",
   "execution_count": null,
   "metadata": {},
   "outputs": [],
   "source": [
    "from sentence_transformers import SentenceTransformer"
   ]
  },
  {
   "cell_type": "markdown",
   "metadata": {},
   "source": [
    "# TextAttack Model Wrapper\n",
    "\n",
    "This is used to provide hooks for TextAttack to tokenize input text and attack the model."
   ]
  },
  {
   "cell_type": "code",
   "execution_count": null,
   "metadata": {},
   "outputs": [],
   "source": [
    "from textattack.models.wrappers import ModelWrapper\n",
    "\n",
    "class BetterSklearnModelWrapper(ModelWrapper):\n",
    "    \"\"\"Loads a scikit-learn model and tokenizer (tokenizer implements\n",
    "    `transform` and model implements `predict_proba`).\n",
    "    May need to be extended and modified for different types of\n",
    "    tokenizers.\n",
    "    \"\"\"\n",
    "\n",
    "    def __init__(self, model, tokenizer):\n",
    "        self.model = model\n",
    "        self.tokenizer = tokenizer\n",
    "\n",
    "    def __call__(self, text_input_list):\n",
    "        encoded_text_matrix = self.tokenizer.transform(text_input_list)\n",
    "        predictions = self.model.predict_proba(encoded_text_matrix)\n",
    "        return predictions\n",
    "\n",
    "    def get_grad(self, text_input):\n",
    "        raise NotImplementedError()"
   ]
  },
  {
   "cell_type": "markdown",
   "metadata": {},
   "source": [
    "# Phrasal Vectorizer\n",
    "This is a \"tokenizer\" in TextAttack parlance.  It converts an input sequence of words into a feature vector that is input to a model."
   ]
  },
  {
   "cell_type": "code",
   "execution_count": null,
   "metadata": {
    "tags": []
   },
   "outputs": [],
   "source": [
    "class FeatureVectorizer:\n",
    "    \n",
    "    def __init__(self, model_name): # e.g., 'all-roberta-large-v1'\n",
    "        self.st_model = SentenceTransformer(model_name)\n",
    "    \n",
    "    def transform(self, text_list):\n",
    "        \"\"\"\n",
    "        Transform text into a feature vector\n",
    "        \"\"\"\n",
    "        vectors = self.st_model.encode(text_list)\n",
    "        \n",
    "        return vectors"
   ]
  },
  {
   "cell_type": "markdown",
   "metadata": {},
   "source": [
    "# Attacking\n"
   ]
  },
  {
   "cell_type": "markdown",
   "metadata": {},
   "source": [
    "## Data and Model Loading"
   ]
  },
  {
   "cell_type": "code",
   "execution_count": null,
   "metadata": {},
   "outputs": [],
   "source": [
    "MAX_CHAR=400 # Too large and processing time gets difficult"
   ]
  },
  {
   "cell_type": "code",
   "execution_count": null,
   "metadata": {},
   "outputs": [],
   "source": [
    "gpt2_345m_test = pd.read_json(\"./data/gpt-2-output-dataset/data/medium-345M-k40.test.jsonl\", lines=True)\n",
    "webtext_test = pd.read_json(\"./data/gpt-2-output-dataset/data/webtext.test.jsonl\", lines=True)\n",
    "\n",
    "machine_samples = [[a[:MAX_CHAR], 1] for a in list(gpt2_345m_test['text'])]\n",
    "human_samples = [[a[:MAX_CHAR], 0] for a in list(webtext_test['text'])]\n",
    "\n",
    "dataset = human_samples.copy()\n",
    "dataset.extend(machine_samples)\n",
    "random.seed(0)\n",
    "random.shuffle(dataset)"
   ]
  },
  {
   "cell_type": "code",
   "execution_count": null,
   "metadata": {},
   "outputs": [],
   "source": [
    "# Going to oversample our desired 200 a bit here, since we want a balanced number.  We'll systematically drop the last instances of the class with greater N after\n",
    "ta_dataset = textattack.datasets.Dataset(dataset[:215])"
   ]
  },
  {
   "cell_type": "markdown",
   "metadata": {},
   "source": [
    "Load pre-trained SVM model for Transformer model"
   ]
  },
  {
   "cell_type": "code",
   "execution_count": null,
   "metadata": {},
   "outputs": [],
   "source": [
    "with open(\"models/roberta_svm_c10.pkl\", \"rb\") as f:\n",
    "    model = pickle.load(f)"
   ]
  },
  {
   "cell_type": "markdown",
   "metadata": {},
   "source": [
    "## Pre-Attack Initialization and Tests"
   ]
  },
  {
   "cell_type": "markdown",
   "metadata": {},
   "source": [
    "Check a single feature vector"
   ]
  },
  {
   "cell_type": "code",
   "execution_count": null,
   "metadata": {},
   "outputs": [],
   "source": [
    "fv = FeatureVectorizer('all-roberta-large-v1')\n",
    "v = fv.transform([dataset[0][0]])\n",
    "v.shape"
   ]
  },
  {
   "cell_type": "markdown",
   "metadata": {},
   "source": [
    "Check a single evaluation"
   ]
  },
  {
   "cell_type": "code",
   "execution_count": null,
   "metadata": {},
   "outputs": [],
   "source": [
    "model_wrapper = BetterSklearnModelWrapper(model, fv)\n",
    "model_wrapper.__call__([dataset[0][0]])"
   ]
  },
  {
   "cell_type": "code",
   "execution_count": null,
   "metadata": {},
   "outputs": [],
   "source": [
    "pd.DataFrame(dataset)[1][:215].value_counts()"
   ]
  },
  {
   "cell_type": "markdown",
   "metadata": {},
   "source": [
    "## Run Attacks"
   ]
  },
  {
   "cell_type": "code",
   "execution_count": null,
   "metadata": {},
   "outputs": [],
   "source": [
    "from textattack.attack_recipes import DeepWordBugGao2018, TextFoolerJin2019\n",
    "dwb_attack = DeepWordBugGao2018.build(model_wrapper)\n",
    "tf_attack = TextFoolerJin2019.build(model_wrapper) # pst... sudo ln -s /usr/local/cuda-11.0/targets/x86_64-linux/lib/libcusolver.so.10 /usr/local/cuda-11.0/targets/x86_64-linux/lib/libcusolver.so.11"
   ]
  },
  {
   "cell_type": "code",
   "execution_count": null,
   "metadata": {},
   "outputs": [],
   "source": [
    "attack_args = textattack.AttackArgs(\n",
    "num_examples=-1,\n",
    "attack_n=False,\n",
    "log_to_csv=\"attack_logs/log_rob_c10_dwb.csv\",\n",
    "checkpoint_interval=5,\n",
    "checkpoint_dir=\"attack_checkpoints\",\n",
    "disable_stdout=False,\n",
    "parallel=False  # can try GPU here\n",
    ")"
   ]
  },
  {
   "cell_type": "code",
   "execution_count": null,
   "metadata": {},
   "outputs": [],
   "source": [
    "# Try attack\n",
    "attacker = textattack.Attacker(dwb_attack, ta_dataset, attack_args)\n",
    "results = attacker.attack_dataset()\n",
    "finished_results = []\n",
    "for idx, result in enumerate(results):\n",
    "    print(f'Result for sample {idx}:')\n",
    "    finished_results.append(result)\n",
    "    print(result.__str__(color_method='ansi'))\n",
    "    print('\\n\\n')"
   ]
  },
  {
   "cell_type": "code",
   "execution_count": null,
   "metadata": {},
   "outputs": [],
   "source": []
  }
 ],
 "metadata": {
  "environment": {
   "kernel": "ta3",
   "name": "common-cu110.m87",
   "type": "gcloud",
   "uri": "gcr.io/deeplearning-platform-release/base-cu110:m87"
  },
  "kernelspec": {
   "display_name": "Python 3 (ipykernel)",
   "language": "python",
   "name": "python3"
  },
  "language_info": {
   "codemirror_mode": {
    "name": "ipython",
    "version": 3
   },
   "file_extension": ".py",
   "mimetype": "text/x-python",
   "name": "python",
   "nbconvert_exporter": "python",
   "pygments_lexer": "ipython3",
   "version": "3.8.13"
  }
 },
 "nbformat": 4,
 "nbformat_minor": 4
}
