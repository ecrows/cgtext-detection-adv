{
 "cells": [
  {
   "cell_type": "code",
   "execution_count": null,
   "id": "04fb43c3-1ced-4970-b6bb-47a5fd6b5463",
   "metadata": {},
   "outputs": [],
   "source": [
    "from sentence_transformers import SentenceTransformer\n",
    "from sklearn.preprocessing import StandardScaler\n",
    "import pickle\n",
    "import pandas as pd\n",
    "from sklearn import svm\n",
    "from sklearn.metrics import accuracy_score, f1_score, r2_score, mean_squared_error"
   ]
  },
  {
   "cell_type": "code",
   "execution_count": null,
   "id": "f52b283f-e0c3-4eda-a4d1-59338f25bb57",
   "metadata": {},
   "outputs": [],
   "source": [
    "from sklearn.model_selection import GridSearchCV, RepeatedStratifiedKFold\n",
    "from sklearn.svm import SVC"
   ]
  },
  {
   "cell_type": "code",
   "execution_count": null,
   "id": "b3b487aa-4c73-4936-acee-32b627dd7303",
   "metadata": {},
   "outputs": [],
   "source": [
    "from sklearn.metrics import make_scorer\n",
    "f1_scorer = make_scorer(f1_score, pos_label=\"machine\")"
   ]
  },
  {
   "cell_type": "code",
   "execution_count": null,
   "id": "06b941d9-3fad-41fd-9df7-6ce746623949",
   "metadata": {},
   "outputs": [],
   "source": [
    "import numpy as np"
   ]
  },
  {
   "cell_type": "markdown",
   "id": "2b87427a-2386-4ee3-9e7e-4d547bae7fde",
   "metadata": {},
   "source": [
    "# Data Loading"
   ]
  },
  {
   "cell_type": "code",
   "execution_count": null,
   "id": "69b552d4-ae76-454f-8a8e-923002958dca",
   "metadata": {},
   "outputs": [],
   "source": [
    "subsample_train = pd.read_csv(\"intermediate_data/3k_of_10k_train.csv\")\n",
    "gpt2_small_eval = pd.read_pickle(\"./intermediate_data/1k_subsample_test.pkl\")\n",
    "gpt2_1532m_eval = pd.read_pickle(\"./intermediate_data/1k_subsample_gpt2_1532m_test.pkl\")\n",
    "gpt3_eval = pd.read_pickle(\"./intermediate_data/1k_subsample_gpt3_test.pkl\")"
   ]
  },
  {
   "cell_type": "markdown",
   "id": "5db14068-17cd-4439-b0ef-d79206322c0b",
   "metadata": {},
   "source": [
    "# Hyperparameter Search"
   ]
  },
  {
   "cell_type": "code",
   "execution_count": null,
   "id": "9ae47adc-4d6d-4014-a727-32325fa47a73",
   "metadata": {},
   "outputs": [],
   "source": [
    "# rbf does not have a significant performance difference here\n",
    "#{'C': [1, 10, 100, 1000], 'gamma': [0.001, 0.0001], 'kernel': ['rbf']},"
   ]
  },
  {
   "cell_type": "code",
   "execution_count": null,
   "id": "5b49207e-fadf-4cc7-9df8-7ac2fe7c26c3",
   "metadata": {},
   "outputs": [],
   "source": [
    "def get_best_c(model):\n",
    "    gpt2_train_encodings = model.encode(list(subsample_train['text']))\n",
    "    param_grid = [\n",
    "      {'C': [1, 10, 100, 1000]},\n",
    "     ]\n",
    "\n",
    "    svc = SVC(kernel='linear', random_state=0)\n",
    "    cv = RepeatedStratifiedKFold(n_splits=5, n_repeats=1, random_state=0)\n",
    "    search = GridSearchCV(estimator=svc, param_grid=param_grid, scoring=f1_scorer, cv=cv, verbose=10)\n",
    "\n",
    "    x = gpt2_train_encodings\n",
    "    y = subsample_train['class']\n",
    "    \n",
    "    search.fit(x, y)\n",
    "    print(search.best_params_)\n",
    "    return search.best_params_['C']"
   ]
  },
  {
   "cell_type": "markdown",
   "id": "057e92b6-4068-45cc-b9e1-4bdbd2eeb1fa",
   "metadata": {},
   "source": [
    "# Train and Eval Function"
   ]
  },
  {
   "cell_type": "code",
   "execution_count": null,
   "id": "569a6810-a179-4725-897e-2c83efd1dbd2",
   "metadata": {},
   "outputs": [],
   "source": [
    "def train_and_eval_model(model, C=100, kernel='linear', gamma=0.001):\n",
    "    \"\"\"\n",
    "    Train and evaluate the model.  Note gamma is unused with linear kernel\n",
    "    Returns (features, model)\n",
    "    \"\"\"\n",
    "    gpt2_train_encodings = model.encode(list(subsample_train['text']))\n",
    "        \n",
    "    x = gpt2_train_encodings\n",
    "    y = subsample_train['class']\n",
    "    clf = svm.SVC(gamma=gamma, C=C, kernel=kernel, random_state=0, probability=True)\n",
    "    clf.fit(x, y)\n",
    "    \n",
    "    train_results = clf.predict(x)\n",
    "    print(f\"Train set accuracy: {accuracy_score(subsample_train['class'], train_results):.4f}\")\n",
    "    print(f\"Train set F1 score: {f1_score(subsample_train['class'], train_results, pos_label='machine'):.4f}\")\n",
    "    \n",
    "    gpt2_small_encodings = model.encode(list(gpt2_small_eval['text']))\n",
    "\n",
    "    test_results = clf.predict(gpt2_small_encodings)\n",
    "    print(f\"GPT-2 355M test set accuracy: {accuracy_score(gpt2_small_eval['class'], test_results):.4f}\")\n",
    "    print(f\"GPT-2 355M test set F1 score: {f1_score(gpt2_small_eval['class'], test_results, pos_label='machine'):.4f}\")\n",
    "    \n",
    "    gpt2_1532m_encodings = model.encode(list(gpt2_1532m_eval['text']))\n",
    "\n",
    "    test_results = clf.predict(gpt2_1532m_encodings)\n",
    "    print(f\"GPT-2 1532M test set accuracy: {accuracy_score(gpt2_1532m_eval['class'], test_results):.4f}\")\n",
    "    print(f\"GPT-2 1532M test set F1 score: {f1_score(gpt2_1532m_eval['class'], test_results, pos_label='machine'):.4f}\")\n",
    "    \n",
    "    gpt3_encodings = model.encode(list(gpt3_eval['text']))\n",
    "\n",
    "    test_results = clf.predict(gpt3_encodings)\n",
    "    print(f\"GPT-3 test set accuracy: {accuracy_score(gpt3_eval['class'], test_results):.4f}\")\n",
    "    print(f\"GPT-3 test set F1 score: {f1_score(gpt3_eval['class'], test_results, pos_label='machine'):.4f}\")\n",
    "    \n",
    "    return gpt2_train_encodings, clf"
   ]
  },
  {
   "cell_type": "markdown",
   "id": "e7748f3b-5fbf-46ac-a5ab-78d677c86a4d",
   "metadata": {},
   "source": [
    "# RoBERTa"
   ]
  },
  {
   "cell_type": "code",
   "execution_count": null,
   "id": "05f942cf-85e8-4cf4-9503-d1dd04d69419",
   "metadata": {},
   "outputs": [],
   "source": [
    "roberta_model = SentenceTransformer('all-roberta-large-v1') # 354 million parameter RoBERTa Large"
   ]
  },
  {
   "cell_type": "code",
   "execution_count": null,
   "id": "eec2e65b-1e73-4ec4-b1d5-09f413099c81",
   "metadata": {},
   "outputs": [],
   "source": [
    "get_best_c(roberta_model) # 10 is best of [1, 10, 100, 1000]"
   ]
  },
  {
   "cell_type": "code",
   "execution_count": null,
   "id": "523b8149-af38-4dac-82fb-0cd6f098fffc",
   "metadata": {},
   "outputs": [],
   "source": [
    "roberta_features, roberta_clf = train_and_eval_model(roberta_model, C=10)"
   ]
  },
  {
   "cell_type": "code",
   "execution_count": null,
   "id": "c141aef5-ae36-41b5-833c-8fa433c80c40",
   "metadata": {},
   "outputs": [],
   "source": [
    "with open(\"models/roberta_svm_c10.pkl\", \"wb\") as f:\n",
    "    pickle.dump(roberta_clf, f)"
   ]
  },
  {
   "cell_type": "markdown",
   "id": "fe33df2c-105f-42ad-b03d-655f7ad58330",
   "metadata": {},
   "source": [
    "# MPNet"
   ]
  },
  {
   "cell_type": "code",
   "execution_count": null,
   "id": "0e68669c-35f7-427b-b7dc-7b9d841669f7",
   "metadata": {},
   "outputs": [],
   "source": [
    "mp_model = SentenceTransformer('all-mpnet-base-v2')"
   ]
  },
  {
   "cell_type": "code",
   "execution_count": null,
   "id": "c33bdc59-8726-4ca6-9f79-e383820b589e",
   "metadata": {},
   "outputs": [],
   "source": [
    "mp_best_c = get_best_c(mp_model) \n",
    "#mp_best_c = 10 # C: 10"
   ]
  },
  {
   "cell_type": "code",
   "execution_count": null,
   "id": "775d3456-bad1-4363-bf17-07dd5a6b0022",
   "metadata": {},
   "outputs": [],
   "source": [
    "mp_features, mp_clf = train_and_eval_model(mp_model, C=mp_best_c)"
   ]
  },
  {
   "cell_type": "code",
   "execution_count": null,
   "id": "b8358b4c-2f0a-483f-8cf1-9fac262664a6",
   "metadata": {},
   "outputs": [],
   "source": [
    "with open(f\"models/all-mpnet-base-v2-c{mp_best_c}.pkl\", \"wb\") as f:\n",
    "    pickle.dump(mp_clf, f)"
   ]
  },
  {
   "cell_type": "code",
   "execution_count": null,
   "id": "24698d9a-7fc3-49d1-9913-92248c0b0d1b",
   "metadata": {},
   "outputs": [],
   "source": [
    "del(mp_model)"
   ]
  },
  {
   "cell_type": "markdown",
   "id": "ea91b824-2937-4c5c-ab3e-099a211a3c19",
   "metadata": {},
   "source": [
    "# MSMarco"
   ]
  },
  {
   "cell_type": "code",
   "execution_count": null,
   "id": "79dc2082-99a5-4c8f-baad-cc2eb9a93069",
   "metadata": {},
   "outputs": [],
   "source": [
    "msmarco_model = SentenceTransformer('msmarco-bert-base-dot-v5')"
   ]
  },
  {
   "cell_type": "code",
   "execution_count": null,
   "id": "bd66ff2c-151e-407d-8db1-9287be406a58",
   "metadata": {},
   "outputs": [],
   "source": [
    "msmarco_best_c = get_best_c(msmarco_model) "
   ]
  },
  {
   "cell_type": "code",
   "execution_count": null,
   "id": "e75bac86-4aa7-48c8-879f-3d86ba203431",
   "metadata": {},
   "outputs": [],
   "source": [
    "msmarco_features, msmarco_clf = train_and_eval_model(msmarco_model, C=msmarco_best_c) # C = 1"
   ]
  },
  {
   "cell_type": "code",
   "execution_count": null,
   "id": "634e07e7-58f8-4a9d-b280-6889c129b0d1",
   "metadata": {},
   "outputs": [],
   "source": [
    "with open(f\"models/msmarco-bert-base-dot-v5-c{msmarco_best_c}.pkl\", \"wb\") as f:\n",
    "    pickle.dump(msmarco_clf, f)"
   ]
  },
  {
   "cell_type": "markdown",
   "id": "584f5a15-ab95-483a-93c7-08aaf0676507",
   "metadata": {},
   "source": [
    "# MPNet Multi QA"
   ]
  },
  {
   "cell_type": "code",
   "execution_count": null,
   "id": "52a25034-70ee-42e1-bdf9-3b27d1102d9d",
   "metadata": {},
   "outputs": [],
   "source": [
    "mp_multi_qa_model = SentenceTransformer('multi-qa-mpnet-base-dot-v1')\n",
    "mpmulti_best_c = get_best_c(mp_multi_qa_model) \n",
    "mqa_mp_features, mqa_mp_clf = train_and_eval_model(mp_multi_qa_model, mpmulti_best_c)"
   ]
  },
  {
   "cell_type": "code",
   "execution_count": null,
   "id": "ee6e1f87-4e0e-437d-ac59-f600e9d0d83e",
   "metadata": {},
   "outputs": [],
   "source": [
    "with open(f\"models/multi-qa-mpnet-base-dot-v1-c{mpmulti_best_c}.pkl\", \"wb\") as f:\n",
    "    pickle.dump(mqa_mp_clf, f)"
   ]
  },
  {
   "cell_type": "markdown",
   "id": "e589e61f-129a-42c6-b9a7-855c4ece0142",
   "metadata": {},
   "source": [
    "# Mini Model"
   ]
  },
  {
   "cell_type": "code",
   "execution_count": null,
   "id": "07f6fb27-6850-43c1-afdc-96ac68bcb6b0",
   "metadata": {},
   "outputs": [],
   "source": [
    "mini_model = SentenceTransformer('multi-qa-MiniLM-L6-cos-v1')\n",
    "mini_best_c = get_best_c(mini_model) \n",
    "mini_features, mini_clf = train_and_eval_model(mini_model, mini_best_c)"
   ]
  },
  {
   "cell_type": "code",
   "execution_count": null,
   "id": "e4d023b6-74e2-467c-9bfe-2afb434940a1",
   "metadata": {},
   "outputs": [],
   "source": [
    "with open(f\"models/multi-qa-MiniLM-L6-cos-v1-c{mini_best_c}.pkl\", \"wb\") as f:\n",
    "    pickle.dump(mini_clf, f)"
   ]
  },
  {
   "cell_type": "markdown",
   "id": "00ac3309-f873-45e2-b91f-519b6b99b5bb",
   "metadata": {},
   "source": [
    "This is pretty interesting.  The model is very small (80MB), but has a long sequence length.  Very optimal, perhaps less overparameterized, and better behaved with the SVM as a classification head."
   ]
  },
  {
   "cell_type": "markdown",
   "id": "c650a378-166e-4cba-b916-57bb524c1c47",
   "metadata": {},
   "source": [
    "# Ensemble\n",
    "\n",
    "Try out an ensemble of neural and statistical features to see if it's interesting."
   ]
  },
  {
   "cell_type": "code",
   "execution_count": null,
   "id": "b3b2e45e-0b12-483a-8ba5-ddca567f6ae9",
   "metadata": {},
   "outputs": [],
   "source": [
    "# Need scaling features for stat, restore from training set\n",
    "with open(\"models/linear_svm_3k_of_10k_scaler.pkl\", \"rb\") as f:\n",
    "    stat_scaler = pickle.load(f)"
   ]
  },
  {
   "cell_type": "code",
   "execution_count": null,
   "id": "749779f3-652f-41b4-b869-cea05815201d",
   "metadata": {},
   "outputs": [],
   "source": [
    "stat_features = pd.read_csv(\"features/3k_of_10k_combined_features.csv\").to_numpy()\n",
    "ensemble_features = np.concatenate([roberta_features, stat_scaler.transform(stat_features)], axis=1)\n",
    "\n",
    "print(stat_features.shape)\n",
    "print(roberta_features.shape)\n",
    "print(ensemble_features.shape)"
   ]
  },
  {
   "cell_type": "code",
   "execution_count": null,
   "id": "bd67ed5a-f29c-404b-8578-d3d6a510326e",
   "metadata": {},
   "outputs": [],
   "source": [
    "x = ensemble_features\n",
    "y = subsample_train['class']\n",
    "clf = svm.SVC(gamma=0.001, C=10., kernel='linear', probability=True)\n",
    "clf.fit(x, y)"
   ]
  },
  {
   "cell_type": "code",
   "execution_count": null,
   "id": "489ab6ce-e663-4a05-9176-50c02f87ca81",
   "metadata": {},
   "outputs": [],
   "source": [
    "train_results = clf.predict(x)\n",
    "print(f\"Train set accuracy: {accuracy_score(subsample_train['class'], train_results):.4f}\")\n",
    "print(f\"Train set F1 score: {f1_score(subsample_train['class'], train_results, pos_label='machine'):.4f}\")"
   ]
  },
  {
   "cell_type": "code",
   "execution_count": null,
   "id": "93143293-5bc9-44c8-8d29-374fb07ba08e",
   "metadata": {},
   "outputs": [],
   "source": [
    "gpt2_small_encodings = roberta_model.encode(list(gpt2_small_eval['text']))\n",
    "stat_gpt2_sm_features = pd.read_csv(\"features/1k_combined_features_test.csv\")"
   ]
  },
  {
   "cell_type": "code",
   "execution_count": null,
   "id": "5ae80b18-b319-4b22-bc5c-eef22241234a",
   "metadata": {},
   "outputs": [],
   "source": [
    "scaled_stat_features_gpt2_355m = stat_scaler.transform(stat_gpt2_sm_features)"
   ]
  },
  {
   "cell_type": "code",
   "execution_count": null,
   "id": "afd0f231-7390-4749-a8ed-83ad9ab53911",
   "metadata": {},
   "outputs": [],
   "source": [
    "stat_gpt2_sm_features.head(1)"
   ]
  },
  {
   "cell_type": "code",
   "execution_count": null,
   "id": "8545e364-97c6-42c7-a8a8-d148240ebf17",
   "metadata": {},
   "outputs": [],
   "source": [
    "ensemble_test_gpt2_355_features = np.concatenate([gpt2_small_encodings, scaled_stat_features_gpt2_355m], axis=1)"
   ]
  },
  {
   "cell_type": "code",
   "execution_count": null,
   "id": "a5f1c042-dc53-4572-8c7c-77ab1c977771",
   "metadata": {},
   "outputs": [],
   "source": [
    "test_results = clf.predict(ensemble_test_gpt2_355_features)\n",
    "print(f\"GPT-2 355M test set accuracy: {accuracy_score(gpt2_small_eval['class'], test_results):.4f}\")\n",
    "print(f\"GPT-2 355M test set F1 score: {f1_score(gpt2_small_eval['class'], test_results, pos_label='machine'):.4f}\")"
   ]
  },
  {
   "cell_type": "code",
   "execution_count": null,
   "id": "dec13eb6-8c0b-497e-b888-149edd5b3754",
   "metadata": {},
   "outputs": [],
   "source": [
    "gpt2_1532m_encodings = roberta_model.encode(list(gpt2_1532m_eval['text']))"
   ]
  },
  {
   "cell_type": "code",
   "execution_count": null,
   "id": "c8ff140f-365a-4c31-83aa-4e196839e079",
   "metadata": {},
   "outputs": [],
   "source": [
    "stat_gpt2_1532m_features = pd.read_csv(\"features/1k_combined_features_gpt2_1532m_test.csv\")"
   ]
  },
  {
   "cell_type": "code",
   "execution_count": null,
   "id": "63569d45-4858-4049-bb14-591c4ff79f0e",
   "metadata": {},
   "outputs": [],
   "source": [
    "scaled_stat_features_gpt2_1532m = stat_scaler.transform(stat_gpt2_1532m_features)"
   ]
  },
  {
   "cell_type": "code",
   "execution_count": null,
   "id": "5553f206-a992-4573-af77-fd1a93adb760",
   "metadata": {},
   "outputs": [],
   "source": [
    "ensemble_test_gpt2_1532_features = np.concatenate([gpt2_1532m_encodings, scaled_stat_features_gpt2_1532m], axis=1)"
   ]
  },
  {
   "cell_type": "code",
   "execution_count": null,
   "id": "dddf543e-dde9-45a8-86d1-ac7bd811f256",
   "metadata": {},
   "outputs": [],
   "source": [
    "test_results = clf.predict(ensemble_test_gpt2_1532_features)\n",
    "print(f\"GPT-2 1532M test set accuracy: {accuracy_score(gpt2_1532m_eval['class'], test_results):.4f}\")\n",
    "print(f\"GPT-2 1532M test set F1 score: {f1_score(gpt2_1532m_eval['class'], test_results, pos_label='machine'):.4f}\")"
   ]
  },
  {
   "cell_type": "code",
   "execution_count": null,
   "id": "870314ac-8a3c-4939-a253-33cc2395c8dd",
   "metadata": {},
   "outputs": [],
   "source": [
    "gpt3_encodings = roberta_model.encode(list(gpt3_eval['text']))"
   ]
  },
  {
   "cell_type": "code",
   "execution_count": null,
   "id": "b497cee9-688f-4d2f-ab49-b2b67b4e58cc",
   "metadata": {},
   "outputs": [],
   "source": [
    "stat_gpt3_features = pd.read_csv(\"features/1k_combined_features_gpt3_test.csv\")"
   ]
  },
  {
   "cell_type": "code",
   "execution_count": null,
   "id": "dfaa94d8-d568-4706-9044-c5d75db848c7",
   "metadata": {},
   "outputs": [],
   "source": [
    "scaled_stat_features_gpt3 = stat_scaler.transform(stat_gpt3_features)\n",
    "ensemble_test_gpt3_features = np.concatenate([gpt3_encodings, scaled_stat_features_gpt3], axis=1)"
   ]
  },
  {
   "cell_type": "code",
   "execution_count": null,
   "id": "d7201a67-d66d-4409-8092-8a23883baf46",
   "metadata": {},
   "outputs": [],
   "source": [
    "test_results = clf.predict(ensemble_test_gpt3_features)\n",
    "print(f\"GPT-3 test set accuracy: {accuracy_score(gpt3_eval['class'], test_results):.4f}\")\n",
    "print(f\"GPT-3 test set F1 score: {f1_score(gpt3_eval['class'], test_results, pos_label='machine'):.4f}\")"
   ]
  },
  {
   "cell_type": "code",
   "execution_count": null,
   "id": "78b50d26-8ffa-4110-bd24-bb98f54c865b",
   "metadata": {},
   "outputs": [],
   "source": [
    "with open(\"features/ensemble_roberta_stat.pkl\", \"wb\") as f:\n",
    "    pickle.dump(stat_gpt2_sm_features, f)"
   ]
  },
  {
   "cell_type": "code",
   "execution_count": null,
   "id": "de370212-23b9-4736-b853-fdf82e1618c9",
   "metadata": {},
   "outputs": [],
   "source": [
    "with open(\"models/ensemble_roberta_stat.pkl\", \"wb\") as f:\n",
    "    pickle.dump(clf, f)"
   ]
  },
  {
   "cell_type": "code",
   "execution_count": null,
   "id": "1ee8e4a8-17f8-4317-8f1d-ee538059e6f4",
   "metadata": {},
   "outputs": [],
   "source": []
  }
 ],
 "metadata": {
  "environment": {
   "kernel": "ta3",
   "name": "common-cu110.m87",
   "type": "gcloud",
   "uri": "gcr.io/deeplearning-platform-release/base-cu110:m87"
  },
  "kernelspec": {
   "display_name": "Python 3 (ipykernel)",
   "language": "python",
   "name": "python3"
  },
  "language_info": {
   "codemirror_mode": {
    "name": "ipython",
    "version": 3
   },
   "file_extension": ".py",
   "mimetype": "text/x-python",
   "name": "python",
   "nbconvert_exporter": "python",
   "pygments_lexer": "ipython3",
   "version": "3.8.13"
  }
 },
 "nbformat": 4,
 "nbformat_minor": 5
}
