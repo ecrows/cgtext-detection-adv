{
 "cells": [
  {
   "cell_type": "code",
   "execution_count": null,
   "id": "25df2320-ecdd-4061-927e-3b9c8851d29e",
   "metadata": {},
   "outputs": [],
   "source": [
    "import pandas as pd"
   ]
  },
  {
   "cell_type": "code",
   "execution_count": null,
   "id": "597627a1-26c1-424f-a14d-373addbe7c5f",
   "metadata": {},
   "outputs": [],
   "source": [
    "all_roberta_attacks_textfooler = pd.read_csv(\"./attack_logs/log_rob_c10_tf_final.csv\")#.append(pd.read_csv(\"./attack_logs/log_rob_c10_extra.csv\"))\n",
    "all_stat_attacks_textfooler = pd.read_csv(\"./attack_logs/textattack_stat_svm_final.csv\")"
   ]
  },
  {
   "cell_type": "code",
   "execution_count": null,
   "id": "0e200b8f-5bb0-4f90-9b99-41c65498f7ba",
   "metadata": {},
   "outputs": [],
   "source": [
    "all_stat_attacks_dwb = pd.read_csv(\"./attack_logs/textattack_stat_svm_dwb_to_80.csv\").append(pd.read_csv(\"./attack_logs/textattack_stat_svm_dwb_80_to_200.csv\"))\n",
    "all_roberta_attacks_dwb = pd.read_csv(\"./attack_logs/log_rob_c10_dwb_215.csv\")[:200]"
   ]
  },
  {
   "cell_type": "code",
   "execution_count": null,
   "id": "aa7e7fa8-2e21-49b4-9505-e7ea178142db",
   "metadata": {},
   "outputs": [],
   "source": [
    "def calculate_attack_metrics(df, attack_type, feature_type):\n",
    "    attack_breakdown = df['result_type'].value_counts()\n",
    "    success_rate = attack_breakdown[\"Successful\"]/(attack_breakdown[\"Successful\"]+attack_breakdown[\"Failed\"])\n",
    "    pre_attack_acc = 1.0-(attack_breakdown[\"Skipped\"])/df.shape[0]\n",
    "    post_attack_acc = attack_breakdown[\"Failed\"]/df.shape[0]\n",
    "    return {\n",
    "        \"Features\": feature_type,\n",
    "        \"Attack Type\": attack_type,\n",
    "        \"Attack Success Rate\": success_rate,\n",
    "        \"Pre-Attack Accuracy\": pre_attack_acc,\n",
    "        \"Post-Attack Accuracy\":post_attack_acc\n",
    "    }"
   ]
  },
  {
   "cell_type": "code",
   "execution_count": null,
   "id": "89d14901-2a2a-416c-8c9e-0d1a3f5f4f9d",
   "metadata": {},
   "outputs": [],
   "source": [
    "attack_summary = pd.DataFrame(columns=[\"Features\", \"Attack Type\", \"Attack Success Rate\", \"Pre-Attack Accuracy\", \"Post-Attack Accuracy\", \"ΔMAUVE\"])"
   ]
  },
  {
   "cell_type": "code",
   "execution_count": null,
   "id": "358f3931-04fb-497f-bbfd-1a84d5d2a003",
   "metadata": {},
   "outputs": [],
   "source": [
    "attack_summary = attack_summary.append(calculate_attack_metrics(all_roberta_attacks_textfooler, \"TextFooler\", \"RoBERTa\"), ignore_index=True)\n",
    "attack_summary = attack_summary.append(calculate_attack_metrics(all_roberta_attacks_dwb, \"DeepWordBug\", \"RoBERTa\"), ignore_index=True)\n",
    "attack_summary = attack_summary.append(calculate_attack_metrics(all_stat_attacks_textfooler, \"TextFooler\", \"Statistical\"), ignore_index=True)\n",
    "attack_summary = attack_summary.append(calculate_attack_metrics(all_stat_attacks_dwb, \"DeepWordBug\", \"Statistical\"), ignore_index=True)"
   ]
  },
  {
   "cell_type": "code",
   "execution_count": null,
   "id": "8ebb55af-b1f0-45e6-a439-7ca715c770c6",
   "metadata": {},
   "outputs": [],
   "source": [
    "attack_summary[\"Attack Success Rate\"] = attack_summary[\"Attack Success Rate\"].round(3)"
   ]
  },
  {
   "cell_type": "code",
   "execution_count": null,
   "id": "98d18392-3ca2-4930-add6-ca2f3b11cb7f",
   "metadata": {},
   "outputs": [],
   "source": [
    "print(attack_summary.to_latex(index=False))"
   ]
  },
  {
   "cell_type": "markdown",
   "id": "c3568def-d8a3-4da9-9833-b9bc396a6a66",
   "metadata": {},
   "source": [
    "# MAUVE scores"
   ]
  },
  {
   "cell_type": "code",
   "execution_count": null,
   "id": "5c6b7fc8-0af8-410f-823d-c7e6a2b44036",
   "metadata": {},
   "outputs": [],
   "source": [
    "import mauve "
   ]
  },
  {
   "cell_type": "markdown",
   "id": "0ff7818e-49b2-456c-8974-e996b036a672",
   "metadata": {},
   "source": [
    "We calculate MAUVE from REAL->ORIGINAL and then from REAL->PERTURBED and determine the delta."
   ]
  },
  {
   "cell_type": "code",
   "execution_count": null,
   "id": "5ec73db9-50be-4f5a-9665-869c634c7c29",
   "metadata": {},
   "outputs": [],
   "source": [
    "def compute_avg_mauve_perturbed(df):\n",
    "    # Remove annotations\n",
    "    p = pd.read_json(\"data/gpt-2-output-dataset/data/webtext.valid.jsonl\", lines=True)['text']\n",
    "    q1 = df['original_text'].str.replace('[[','', regex=False).str.replace(']]', '', regex=False)\n",
    "    q2 = df['perturbed_text'].str.replace('[[','', regex=False).str.replace(']]', '', regex=False)\n",
    "    out1 = mauve.compute_mauve(p_text=p, q_text=q1, device_id=0, max_text_length=256, verbose=False)\n",
    "    out2 = mauve.compute_mauve(p_text=p, q_text=q2, device_id=0, max_text_length=256, verbose=False)\n",
    "    print(f\"Prior MAUVE: {out1.mauve}\")\n",
    "    print(f\"Post MAUVE: {out2.mauve}\")\n",
    "    return out2.mauve-out1.mauve"
   ]
  },
  {
   "cell_type": "code",
   "execution_count": null,
   "id": "93e26441-1506-4db7-a586-0b5bd899b25c",
   "metadata": {},
   "outputs": [],
   "source": [
    "compute_avg_mauve_perturbed(all_roberta_attacks_textfooler)\n",
    "# Prior MAUVE: 0.20184612877753388\n",
    "# Post MAUVE: 0.17964426031295821\n",
    "# -0.02220186846457567"
   ]
  },
  {
   "cell_type": "code",
   "execution_count": null,
   "id": "af512918-4963-430a-90d8-0eae69d98207",
   "metadata": {},
   "outputs": [],
   "source": [
    "compute_avg_mauve_perturbed(all_roberta_attacks_dwb)\n",
    "# Prior MAUVE: 0.20184612877753388\n",
    "# Post MAUVE: 0.17580721854104975\n",
    "# -0.026038910236484136"
   ]
  },
  {
   "cell_type": "code",
   "execution_count": null,
   "id": "f14a3de6-a04f-4a02-9244-c781fd1d3d90",
   "metadata": {},
   "outputs": [],
   "source": [
    "compute_avg_mauve_perturbed(all_stat_attacks_textfooler)\n",
    "# Prior MAUVE: 0.20184612877753388\n",
    "# Post MAUVE: 0.1681246795470045\n",
    "# -0.03372144923052939"
   ]
  },
  {
   "cell_type": "code",
   "execution_count": null,
   "id": "0791e87f-04ec-4c9a-985b-69b3cecf388f",
   "metadata": {},
   "outputs": [],
   "source": [
    "compute_avg_mauve_perturbed(all_stat_attacks_dwb)\n",
    "# Prior MAUVE: 0.20184612877753388\n",
    "# Post MAUVE: 0.17387813075822658\n",
    "# -0.0279679980193073"
   ]
  },
  {
   "cell_type": "code",
   "execution_count": null,
   "id": "f9f19733-c9e3-4fca-bd17-a66c152fbb56",
   "metadata": {},
   "outputs": [],
   "source": []
  }
 ],
 "metadata": {
  "environment": {
   "kernel": "ta3",
   "name": "common-cu110.m87",
   "type": "gcloud",
   "uri": "gcr.io/deeplearning-platform-release/base-cu110:m87"
  },
  "kernelspec": {
   "display_name": "Python 3 (ipykernel)",
   "language": "python",
   "name": "python3"
  },
  "language_info": {
   "codemirror_mode": {
    "name": "ipython",
    "version": 3
   },
   "file_extension": ".py",
   "mimetype": "text/x-python",
   "name": "python",
   "nbconvert_exporter": "python",
   "pygments_lexer": "ipython3",
   "version": "3.8.13"
  }
 },
 "nbformat": 4,
 "nbformat_minor": 5
}
