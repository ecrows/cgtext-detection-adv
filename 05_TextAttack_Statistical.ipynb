{
 "cells": [
  {
   "cell_type": "markdown",
   "metadata": {},
   "source": [
    "# Scikit-Learn and TextAttack"
   ]
  },
  {
   "cell_type": "markdown",
   "metadata": {},
   "source": [
    "## Complex Phrasal Features Experiments"
   ]
  },
  {
   "cell_type": "code",
   "execution_count": null,
   "metadata": {},
   "outputs": [],
   "source": [
    "import numpy as np\n",
    "import random\n",
    "import datasets\n",
    "import os\n",
    "import pandas as pd\n",
    "import re\n",
    "import pickle\n",
    "\n",
    "from sklearn.feature_extraction.text import CountVectorizer, ENGLISH_STOP_WORDS\n",
    "from sklearn import preprocessing\n",
    "from sklearn.feature_extraction.text import TfidfVectorizer\n",
    "from sklearn.linear_model import LogisticRegression\n",
    "from sklearn.linear_model import SGDClassifier\n",
    "from sklearn.metrics import classification_report\n",
    "from sklearn.metrics import accuracy_score, f1_score, r2_score, mean_squared_error\n",
    "from sklearn.linear_model import LinearRegression\n",
    "import concurrent.futures\n",
    "\n",
    "import stanza\n",
    "import textstat\n",
    "\n",
    "import spacy\n",
    "import neuralcoref\n",
    "\n",
    "import textattack"
   ]
  },
  {
   "cell_type": "code",
   "execution_count": null,
   "metadata": {},
   "outputs": [],
   "source": [
    "stanza.download('en')  # This can be important if you have multiple versions of stanza kicking around"
   ]
  },
  {
   "cell_type": "code",
   "execution_count": null,
   "metadata": {},
   "outputs": [],
   "source": [
    "nlp_lem = stanza.Pipeline(lang='en', processors='tokenize,lemma')"
   ]
  },
  {
   "cell_type": "code",
   "execution_count": null,
   "metadata": {},
   "outputs": [],
   "source": [
    "const_nlp = stanza.Pipeline(lang='en', processors='tokenize,pos,constituency')"
   ]
  },
  {
   "cell_type": "code",
   "execution_count": null,
   "metadata": {},
   "outputs": [],
   "source": [
    "nlp_spacy = spacy.load('en')\n",
    "neuralcoref.add_to_pipe(nlp_spacy)"
   ]
  },
  {
   "cell_type": "markdown",
   "metadata": {},
   "source": [
    "Helpful lemmatizer functions for later."
   ]
  },
  {
   "cell_type": "code",
   "execution_count": null,
   "metadata": {},
   "outputs": [],
   "source": [
    "def lemmatize_text(text):\n",
    "    return [b.lemma for b in nlp_lem(text.lower()).iter_words()]"
   ]
  },
  {
   "cell_type": "markdown",
   "metadata": {},
   "source": [
    "# TextAttack Model Wrapper\n",
    "\n",
    "This is used to provide hooks for TextAttack to tokenize input text and attack the model."
   ]
  },
  {
   "cell_type": "code",
   "execution_count": null,
   "metadata": {},
   "outputs": [],
   "source": [
    "from textattack.models.wrappers import ModelWrapper\n",
    "\n",
    "class BetterSklearnModelWrapper(ModelWrapper):\n",
    "    \"\"\"Loads a scikit-learn model and tokenizer (tokenizer implements\n",
    "    `transform` and model implements `predict_proba`).\n",
    "    May need to be extended and modified for different types of\n",
    "    tokenizers.\n",
    "    \"\"\"\n",
    "\n",
    "    def __init__(self, model, tokenizer):\n",
    "        self.model = model\n",
    "        self.tokenizer = tokenizer\n",
    "\n",
    "    def __call__(self, text_input_list):\n",
    "        encoded_text_matrix = self.tokenizer.transform(text_input_list)\n",
    "\n",
    "        predictions = self.model.predict_proba(encoded_text_matrix)\n",
    "        return predictions\n",
    "\n",
    "    def get_grad(self, text_input):\n",
    "        raise NotImplementedError()"
   ]
  },
  {
   "cell_type": "markdown",
   "metadata": {},
   "source": [
    "# Phrasal Vectorizer\n",
    "This is a \"tokenizer\" in TextAttack parlance.  It converts an input sequence of words into a feature vector that is input to a model."
   ]
  },
  {
   "cell_type": "code",
   "execution_count": null,
   "metadata": {
    "tags": []
   },
   "outputs": [],
   "source": [
    "class FeatureVectorizer:\n",
    "    def generate_freq_features(self, b):\n",
    "        freq_features = []\n",
    "        \n",
    "        if type(b) == 'str':\n",
    "            print(\"Error: string type, expected list of lemmas\")\n",
    "            raise TypeError\n",
    "\n",
    "        tokens, counts = np.unique(b, return_counts=True)\n",
    "\n",
    "        log_counts = sorted(np.log(counts), reverse=True)\n",
    "        ranks = np.log(np.arange(1, len(log_counts)+1)).reshape(-1,1)\n",
    "        reg = LinearRegression().fit(ranks, log_counts)\n",
    "\n",
    "        preds = reg.predict(ranks)\n",
    "\n",
    "        r2 = r2_score(log_counts, preds)\n",
    "        slope = reg.coef_[0]\n",
    "        mse = mean_squared_error(log_counts, preds)\n",
    "\n",
    "        freq_features = (slope, r2, mse)\n",
    "\n",
    "        return freq_features\n",
    "    \n",
    "    def generate_verb_phrase_ratios(self, s):\n",
    "        phrasal_count = 0\n",
    "        doc = const_nlp(s)\n",
    "\n",
    "        for sentence in doc.sentences:\n",
    "            c = sentence.constituency\n",
    "            for p in c.preterminals():\n",
    "                if p.label == 'RP':\n",
    "                    phrasal_count += 1\n",
    "\n",
    "        phrasal_ratio = phrasal_count/doc.num_words\n",
    "        return phrasal_ratio\n",
    "    \n",
    "    def generate_fluency_features(self, s):\n",
    "        gunning_fog_score = textstat.gunning_fog(s)\n",
    "        flesch_reading_ease_score = textstat.flesch_reading_ease(s)\n",
    "\n",
    "        return gunning_fog_score, flesch_reading_ease_score\n",
    "    \n",
    "    def generate_coref_ratios(self, s):\n",
    "        coref_ratios = []\n",
    "        doc = nlp_spacy(s)\n",
    "        coref_ratio = len(doc._.coref_clusters)/len(doc)\n",
    "        return coref_ratio\n",
    "\n",
    "    def array_match_count(self, an, search):\n",
    "        \"\"\"\n",
    "        Find matching sequences of elements in an array, fairly efficiently\n",
    "        \"\"\"\n",
    "        if len(search) == 0:\n",
    "            return 0\n",
    "\n",
    "        try:\n",
    "            search_index = 0\n",
    "            found_count = 0\n",
    "\n",
    "            while search_index < len(an):\n",
    "                first_word_index = an.index(search[0], search_index)\n",
    "                if (an[first_word_index:first_word_index+len(search)] == search):\n",
    "                    found_count += 1\n",
    "\n",
    "                search_index = first_word_index+1\n",
    "        except ValueError:\n",
    "            pass\n",
    "\n",
    "        return found_count\n",
    "    \n",
    "    def get_rate_of_wordlist(self, text, wordlist):\n",
    "        \"\"\"\n",
    "        Given a text and a list of words (or phrases),\n",
    "        get the number of occurences of these in the relevant dataframe column,\n",
    "        divided by the length of the list\n",
    "        \"\"\"\n",
    "        ratio = 0\n",
    "        count = 0\n",
    "        \n",
    "        if (len(text) > 0):\n",
    "            for w in wordlist:\n",
    "                count += self.array_match_count(text, w)\n",
    "            ratio = count/len(text)\n",
    "\n",
    "        return ratio\n",
    "\n",
    "    def get_all_wordlist_ratios(self, text):\n",
    "        ratio_archaisms = self.get_rate_of_wordlist(text, self.archaisms)\n",
    "        ratio_idioms = self.get_rate_of_wordlist(text, self.wiki_english_idioms)\n",
    "        ratio_cliches = self.get_rate_of_wordlist(text, self.cliches)\n",
    "        \n",
    "        return (ratio_archaisms, ratio_idioms, ratio_cliches)\n",
    "    \n",
    "    def __init__(self):\n",
    "        #self.cliches, self.archaisms, self.idioms = self.load_phrasal_features()\n",
    "        # Load initial lookup tables and similar\n",
    "        with open(\"intermediate_data/cliche_lemmas.pkl\", \"rb\") as f:\n",
    "            self.cliches = pickle.load(f)\n",
    "        with open(\"intermediate_data/archaisms_lemmas.pkl\", \"rb\") as f:\n",
    "            self.archaisms = pickle.load(f)\n",
    "        with open(\"intermediate_data/idiom_lemmas.pkl\", \"rb\") as f:\n",
    "            self.wiki_english_idioms = pickle.load(f)\n",
    "        with open(\"models/linear_svm_3k_of_10k_scaler.pkl\", \"rb\") as f:\n",
    "            self.scaler = pickle.load(f)\n",
    "    \n",
    "    def transform(self, text_list):\n",
    "        \"\"\"\n",
    "        Transform text into a feature vector\n",
    "        \"\"\"\n",
    "        #print(f\"Received text_list of length {len(text_list)}\")\n",
    "        #print(f\"Starting string: {text_list[:22]}\")\n",
    "        \n",
    "        vectors = []\n",
    "        \n",
    "        # Processing individually... for now\n",
    "        for text in text_list:\n",
    "            # Lemmatize text as some steps require lemmas\n",
    "            lemma_text = lemmatize_text(text)\n",
    "\n",
    "            # Call various processing components\n",
    "            _verb_phrase = self.generate_verb_phrase_ratios(text)\n",
    "            _coref_ratios = self.generate_coref_ratios(text)\n",
    "            _gf_scores, _fre_scores = self.generate_fluency_features(text)\n",
    "            _phrasal_ratios = self.get_all_wordlist_ratios(lemma_text)\n",
    "            _freq_features = self.generate_freq_features(lemma_text)\n",
    "\n",
    "            # Construct feature vector from results\n",
    "            vector = []\n",
    "            vector.extend(_freq_features)\n",
    "            vector.append(_verb_phrase)\n",
    "            vector.append(_coref_ratios)\n",
    "            vector.extend(_phrasal_ratios)\n",
    "            vector.append(_gf_scores)\n",
    "            vector.append(_fre_scores)\n",
    "                        \n",
    "            vectors.append(vector)\n",
    "        \n",
    "        #print(\"Transform returned vectors\")\n",
    "        #print(len(vectors))\n",
    "        vectors = self.scaler.transform(vectors)\n",
    "        return vectors\n",
    "\n",
    "\n",
    "    def get_feature_names(self):\n",
    "        return  [\"Slope\", \"R2\", \"MSE\", \"Verb Phrase\", \"Coreference\", \"Archaisms\", \"Idioms\", \"Cliches\", \"Gunning-Fog\", \"Flesch\"]"
   ]
  },
  {
   "cell_type": "markdown",
   "metadata": {},
   "source": [
    "# Attacking Statistical Model\n"
   ]
  },
  {
   "cell_type": "markdown",
   "metadata": {},
   "source": [
    "## Data and Model Loading"
   ]
  },
  {
   "cell_type": "code",
   "execution_count": null,
   "metadata": {},
   "outputs": [],
   "source": [
    "MAX_CHAR=400 # Too large and character-based attacks really don't work"
   ]
  },
  {
   "cell_type": "code",
   "execution_count": null,
   "metadata": {},
   "outputs": [],
   "source": [
    "gpt2_345m_test = pd.read_json(\"./data/gpt-2-output-dataset/data/medium-345M-k40.test.jsonl\", lines=True)\n",
    "webtext_test = pd.read_json(\"./data/gpt-2-output-dataset/data/webtext.test.jsonl\", lines=True)\n",
    "\n",
    "machine_samples = [[a[:MAX_CHAR], 1] for a in list(gpt2_345m_test['text'])]\n",
    "human_samples = [[a[:MAX_CHAR], 0] for a in list(webtext_test['text'])]\n",
    "\n",
    "dataset = human_samples.copy()\n",
    "dataset.extend(machine_samples)\n",
    "random.seed(0)\n",
    "random.shuffle(dataset)"
   ]
  },
  {
   "cell_type": "code",
   "execution_count": null,
   "metadata": {},
   "outputs": [],
   "source": [
    "ta_dataset = textattack.datasets.Dataset(dataset[200:215]) # TODO: Reset this when done processing the rest"
   ]
  },
  {
   "cell_type": "markdown",
   "metadata": {},
   "source": [
    "Load pre-trained SVM model"
   ]
  },
  {
   "cell_type": "code",
   "execution_count": null,
   "metadata": {},
   "outputs": [],
   "source": [
    "with open(\"models/linear_svm_3k_of_10k_proba.pickle\", \"rb\") as f:\n",
    "    model = pickle.load(f)"
   ]
  },
  {
   "cell_type": "markdown",
   "metadata": {},
   "source": [
    "## Pre-Attack Tests"
   ]
  },
  {
   "cell_type": "markdown",
   "metadata": {},
   "source": [
    "Check a single feature vector"
   ]
  },
  {
   "cell_type": "code",
   "execution_count": null,
   "metadata": {},
   "outputs": [],
   "source": [
    "f = FeatureVectorizer()\n",
    "v = f.transform([dataset[0][0]])\n",
    "v"
   ]
  },
  {
   "cell_type": "markdown",
   "metadata": {},
   "source": [
    "Check a single evaluation"
   ]
  },
  {
   "cell_type": "code",
   "execution_count": null,
   "metadata": {},
   "outputs": [],
   "source": [
    "feature_vectorizer = FeatureVectorizer()\n",
    "model_wrapper = BetterSklearnModelWrapper(model,feature_vectorizer)"
   ]
  },
  {
   "cell_type": "code",
   "execution_count": null,
   "metadata": {},
   "outputs": [],
   "source": [
    "model_wrapper.__call__([dataset[0][0]])"
   ]
  },
  {
   "cell_type": "markdown",
   "metadata": {},
   "source": [
    "## Run Attacks"
   ]
  },
  {
   "cell_type": "code",
   "execution_count": null,
   "metadata": {},
   "outputs": [],
   "source": [
    "from textattack.attack_recipes import DeepWordBugGao2018, TextFoolerJin2019\n",
    "dwb_attack = DeepWordBugGao2018.build(model_wrapper)\n",
    "tf_attack = TextFoolerJin2019.build(model_wrapper) # sudo ln -s /usr/local/cuda-11.0/targets/x86_64-linux/lib/libcusolver.so.10 /usr/local/cuda-11.0/targets/x86_64-linux/lib/libcusolver.so.11"
   ]
  },
  {
   "cell_type": "code",
   "execution_count": null,
   "metadata": {},
   "outputs": [],
   "source": [
    "attack_args = textattack.AttackArgs(\n",
    "num_examples=-1,\n",
    "attack_n=False,\n",
    "log_to_csv=\"attack_logs/log.csv\",\n",
    "checkpoint_interval=5,\n",
    "checkpoint_dir=\"attack_checkpoints\",\n",
    "disable_stdout=False,\n",
    "parallel=False  # can try multi GPU here\n",
    ")"
   ]
  },
  {
   "cell_type": "markdown",
   "metadata": {},
   "source": [
    "**Note that in between runs here we're manually backing up the \"log\" files.**"
   ]
  },
  {
   "cell_type": "code",
   "execution_count": null,
   "metadata": {},
   "outputs": [],
   "source": [
    "# Try an attack\n",
    "attacker = textattack.Attacker(tf_attack, ta_dataset, attack_args)\n",
    "results = attacker.attack_dataset()\n",
    "finished_results = []\n",
    "for idx, result in enumerate(results):\n",
    "    print(f'Result for sample {idx}:')\n",
    "    finished_results.append(result)\n",
    "    print(result.__str__(color_method='ansi'))\n",
    "    print('\\n\\n')"
   ]
  },
  {
   "cell_type": "code",
   "execution_count": null,
   "metadata": {},
   "outputs": [],
   "source": [
    "attacker = textattack.Attacker(dwb_attack, ta_dataset, attack_args)\n",
    "results = attacker.attack_dataset()\n",
    "finished_results = []\n",
    "for idx, result in enumerate(results):\n",
    "    print(f'Result for sample {idx}:')\n",
    "    finished_results.append(result)\n",
    "    print(result.__str__(color_method='ansi'))\n",
    "    print('\\n\\n')"
   ]
  }
 ],
 "metadata": {
  "environment": {
   "kernel": "ta3",
   "name": "common-cu110.m87",
   "type": "gcloud",
   "uri": "gcr.io/deeplearning-platform-release/base-cu110:m87"
  },
  "kernelspec": {
   "display_name": "Python 3 (ipykernel)",
   "language": "python",
   "name": "python3"
  },
  "language_info": {
   "codemirror_mode": {
    "name": "ipython",
    "version": 3
   },
   "file_extension": ".py",
   "mimetype": "text/x-python",
   "name": "python",
   "nbconvert_exporter": "python",
   "pygments_lexer": "ipython3",
   "version": "3.8.13"
  }
 },
 "nbformat": 4,
 "nbformat_minor": 4
}
