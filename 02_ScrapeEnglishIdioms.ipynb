{
 "cells": [
  {
   "cell_type": "markdown",
   "metadata": {},
   "source": [
    "# English Idiom Scraping\n",
    "\n",
    "Grab full list of English idions from Wikitionary."
   ]
  },
  {
   "cell_type": "code",
   "execution_count": null,
   "metadata": {},
   "outputs": [],
   "source": [
    "# Collected for our paper based on Wikitionary version on 2022-02-1"
   ]
  },
  {
   "cell_type": "code",
   "execution_count": null,
   "metadata": {},
   "outputs": [],
   "source": [
    "from bs4 import BeautifulSoup\n",
    "import requests\n",
    "import time"
   ]
  },
  {
   "cell_type": "code",
   "execution_count": null,
   "metadata": {},
   "outputs": [],
   "source": [
    "wiki_base = \"https://en.wiktionary.org\"\n",
    "idiom_page = \"/wiki/Category:English_idioms\""
   ]
  },
  {
   "cell_type": "code",
   "execution_count": null,
   "metadata": {},
   "outputs": [],
   "source": [
    "soup = BeautifulSoup(requests.get(wiki_base + idiom_page).content, 'html.parser')\n",
    "next_link = soup.find_all(\"a\", text=\"next page\")[0][\"href\"]"
   ]
  },
  {
   "cell_type": "code",
   "execution_count": null,
   "metadata": {},
   "outputs": [],
   "source": [
    "category_divs = []\n",
    "while next_link:\n",
    "    category_divs.append(soup.find_all(\"div\", class_=\"mw-category\"))\n",
    "    print(\"Fetching \" + wiki_base + next_link)\n",
    "    soup = BeautifulSoup(requests.get(wiki_base + next_link).content, 'html.parser')\n",
    "    \n",
    "    next_link_el = soup.find_all(\"a\", text=\"next page\")\n",
    "    if len(next_link_el) > 0:\n",
    "        next_link = next_link_el[0][\"href\"]\n",
    "    else:\n",
    "        next_link = None\n",
    "        \n",
    "    time.sleep(1)"
   ]
  },
  {
   "cell_type": "code",
   "execution_count": null,
   "metadata": {},
   "outputs": [],
   "source": [
    "category_divs.append(soup.find_all(\"div\", class_=\"mw-category\"))"
   ]
  },
  {
   "cell_type": "code",
   "execution_count": null,
   "metadata": {},
   "outputs": [],
   "source": [
    "parsed = []\n",
    "for d in category_divs:\n",
    "    for a in d[0].find_all(\"a\"):\n",
    "        parsed.append(a.contents[0])"
   ]
  },
  {
   "cell_type": "code",
   "execution_count": null,
   "metadata": {},
   "outputs": [],
   "source": [
    "with open(\"english_idioms.txt\", \"w\") as f:\n",
    "    for p in parsed:\n",
    "        f.write(p + \"\\n\")"
   ]
  },
  {
   "cell_type": "code",
   "execution_count": null,
   "metadata": {},
   "outputs": [],
   "source": []
  }
 ],
 "metadata": {
  "environment": {
   "kernel": "ta",
   "name": "common-cu110.m87",
   "type": "gcloud",
   "uri": "gcr.io/deeplearning-platform-release/base-cu110:m87"
  },
  "kernelspec": {
   "display_name": "Python 3 (ipykernel)",
   "language": "python",
   "name": "python3"
  },
  "language_info": {
   "codemirror_mode": {
    "name": "ipython",
    "version": 3
   },
   "file_extension": ".py",
   "mimetype": "text/x-python",
   "name": "python",
   "nbconvert_exporter": "python",
   "pygments_lexer": "ipython3",
   "version": "3.8.13"
  }
 },
 "nbformat": 4,
 "nbformat_minor": 4
}
